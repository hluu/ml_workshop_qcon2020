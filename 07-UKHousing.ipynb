{
 "cells": [
  {
   "cell_type": "markdown",
   "metadata": {},
   "source": [
    "# Predict prices for UK houses\n",
    "\n",
    "In this notebook you shall write your own machine learning pipeline. The task hereby is to predict the prices of houses sold in the UK. For this you have the file `\"price_paid_records_limited.csv\"`. If you want to actually check how good you algorithm is join the related [Kaeggle challenge](https://www.kaggle.com/hm-land-registry/uk-housing-prices-paid)."
   ]
  },
  {
   "cell_type": "code",
   "execution_count": null,
   "metadata": {},
   "outputs": [],
   "source": []
  }
 ],
 "metadata": {
  "kernelspec": {
   "display_name": "Python 3",
   "language": "python",
   "name": "python3"
  },
  "language_info": {
   "codemirror_mode": {
    "name": "ipython",
    "version": 3
   },
   "file_extension": ".py",
   "mimetype": "text/x-python",
   "name": "python",
   "nbconvert_exporter": "python",
   "pygments_lexer": "ipython3",
   "version": "3.7.5"
  }
 },
 "nbformat": 4,
 "nbformat_minor": 4
}

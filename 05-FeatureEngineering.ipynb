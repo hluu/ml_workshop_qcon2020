{
 "cells": [
  {
   "cell_type": "markdown",
   "metadata": {},
   "source": [
    "# Feature Extraction / Feature Engineering\n",
    "\n",
    "Until now, we just used the following columns: `[\"Pclass\", \"Age\", \"SibSp\", \"Parch\", \"Fare\"]`. \n",
    "However, there are way more columns. Unluckily, they are strings and cannot be used natively by most machine learning algorithms. Let's see what we can do about that:\n"
   ]
  },
  {
   "cell_type": "code",
   "execution_count": 3,
   "metadata": {},
   "outputs": [],
   "source": [
    "import pandas as pd"
   ]
  },
  {
   "cell_type": "code",
   "execution_count": 4,
   "metadata": {},
   "outputs": [],
   "source": [
    "df = pd.read_csv('train.csv')\n",
    "df = df.fillna(0)"
   ]
  },
  {
   "cell_type": "markdown",
   "metadata": {},
   "source": [
    "## Feature Extraction\n",
    "\n",
    "As you can see, we have 5 columns that have the type string: `[\"Name\", \"Sex\", \"Ticket\", \"Cabin\", \"Embarked\"]`.\n",
    "\n",
    "Lets start with the `Sex` property, as it is the easiest. To use this in a classifier we can simply encode it using a binary rule: `male` -> 0, `female` -> 1. \n",
    "\n",
    "For that, we first have to select the elements we want to change, which can be done using `df.loc[rows, cols]`. The first parameter specifies the columns which will be selected and the second one the rows. This can be done with a boolean expression and the name of a column, e.g. `df.loc[df[\"Sex\"] == \"male\", \"Sex\"] = 0` selects all rows, where `Sex` is `male` and then sets the corresponding values to `0`.   \n",
    "\n",
    "Let's see how much that improves our model:"
   ]
  },
  {
   "cell_type": "code",
   "execution_count": 5,
   "metadata": {},
   "outputs": [],
   "source": [
    "df.loc[df[\"Sex\"] == \"male\", \"Sex\"] = 0\n",
    "df.loc[df[\"Sex\"] == \"female\", \"Sex\"] = 1"
   ]
  },
  {
   "cell_type": "code",
   "execution_count": 6,
   "metadata": {},
   "outputs": [],
   "source": [
    "from sklearn.model_selection import train_test_split\n",
    "\n",
    "features = [\"Pclass\", \"Age\", \"SibSp\", \"Parch\", \"Fare\", \"Sex\"]\n",
    "\n",
    "xTrain, xTest, yTrain, yTest = train_test_split(\n",
    "    df[features],\n",
    "    df[\"Survived\"],\n",
    "    stratify = df[\"Survived\"],\n",
    "    random_state = 42\n",
    ")"
   ]
  },
  {
   "cell_type": "code",
   "execution_count": 7,
   "metadata": {},
   "outputs": [
    {
     "data": {
      "text/plain": [
       "0.9820359281437125"
      ]
     },
     "execution_count": 7,
     "metadata": {},
     "output_type": "execute_result"
    }
   ],
   "source": [
    "from sklearn.tree import DecisionTreeClassifier\n",
    "tree = DecisionTreeClassifier()\n",
    "tree.fit(xTrain, yTrain)\n",
    "tree.score(xTrain, yTrain)"
   ]
  },
  {
   "cell_type": "code",
   "execution_count": 8,
   "metadata": {},
   "outputs": [
    {
     "data": {
      "text/plain": [
       "0.7713004484304933"
      ]
     },
     "execution_count": 8,
     "metadata": {},
     "output_type": "execute_result"
    }
   ],
   "source": [
    "tree.score(xTest, yTest)"
   ]
  },
  {
   "cell_type": "markdown",
   "metadata": {},
   "source": [
    "We got way better, just by adding this one feature!\n",
    "Seems like it mattered a lot, if you were male or female. \n",
    "\n",
    "Let's see if we can apply this to other features, e.g. `\"Embarked\"`.\n",
    "\n",
    "It can have four values C = Cherbourg, Q = Queenstown, S = Southampton, for the three ports, where people boarded the Titanic or nothing, if it is uncertain where the person boarded the ship. \n",
    "There are two ways to encode the values. Either as a mapping, C -> 0, Q -> 1, S -> 2 or as three binary features, isC, isQ, isS. The mapping approach saves two feature inputs, but implies a certain ranking for the three ports (This might be valid, if one town has richer occupants than the others). For the missing port we could add another mapping (binary columns) or we could assign it the most occuring port.\n",
    "\n",
    "Let us go with binary columns for the time being and add one for the port missing as well. pandas has a super convenient function for this `pd.get_dummies`"
   ]
  },
  {
   "cell_type": "code",
   "execution_count": 9,
   "metadata": {},
   "outputs": [],
   "source": [
    "df = df.join(pd.get_dummies(df[\"Embarked\"], prefix=\"is\"))\n",
    "df = df.drop(\"Embarked\", axis=1)"
   ]
  },
  {
   "cell_type": "code",
   "execution_count": 10,
   "metadata": {},
   "outputs": [
    {
     "data": {
      "text/html": [
       "<div>\n",
       "<style scoped>\n",
       "    .dataframe tbody tr th:only-of-type {\n",
       "        vertical-align: middle;\n",
       "    }\n",
       "\n",
       "    .dataframe tbody tr th {\n",
       "        vertical-align: top;\n",
       "    }\n",
       "\n",
       "    .dataframe thead th {\n",
       "        text-align: right;\n",
       "    }\n",
       "</style>\n",
       "<table border=\"1\" class=\"dataframe\">\n",
       "  <thead>\n",
       "    <tr style=\"text-align: right;\">\n",
       "      <th></th>\n",
       "      <th>PassengerId</th>\n",
       "      <th>Survived</th>\n",
       "      <th>Pclass</th>\n",
       "      <th>Name</th>\n",
       "      <th>Sex</th>\n",
       "      <th>Age</th>\n",
       "      <th>SibSp</th>\n",
       "      <th>Parch</th>\n",
       "      <th>Ticket</th>\n",
       "      <th>Fare</th>\n",
       "      <th>Cabin</th>\n",
       "      <th>is_0</th>\n",
       "      <th>is_C</th>\n",
       "      <th>is_Q</th>\n",
       "      <th>is_S</th>\n",
       "    </tr>\n",
       "  </thead>\n",
       "  <tbody>\n",
       "    <tr>\n",
       "      <th>0</th>\n",
       "      <td>1</td>\n",
       "      <td>0</td>\n",
       "      <td>3</td>\n",
       "      <td>Braund, Mr. Owen Harris</td>\n",
       "      <td>0</td>\n",
       "      <td>22.0</td>\n",
       "      <td>1</td>\n",
       "      <td>0</td>\n",
       "      <td>A/5 21171</td>\n",
       "      <td>7.2500</td>\n",
       "      <td>0</td>\n",
       "      <td>0</td>\n",
       "      <td>0</td>\n",
       "      <td>0</td>\n",
       "      <td>1</td>\n",
       "    </tr>\n",
       "    <tr>\n",
       "      <th>1</th>\n",
       "      <td>2</td>\n",
       "      <td>1</td>\n",
       "      <td>1</td>\n",
       "      <td>Cumings, Mrs. John Bradley (Florence Briggs Th...</td>\n",
       "      <td>1</td>\n",
       "      <td>38.0</td>\n",
       "      <td>1</td>\n",
       "      <td>0</td>\n",
       "      <td>PC 17599</td>\n",
       "      <td>71.2833</td>\n",
       "      <td>C85</td>\n",
       "      <td>0</td>\n",
       "      <td>1</td>\n",
       "      <td>0</td>\n",
       "      <td>0</td>\n",
       "    </tr>\n",
       "    <tr>\n",
       "      <th>2</th>\n",
       "      <td>3</td>\n",
       "      <td>1</td>\n",
       "      <td>3</td>\n",
       "      <td>Heikkinen, Miss. Laina</td>\n",
       "      <td>1</td>\n",
       "      <td>26.0</td>\n",
       "      <td>0</td>\n",
       "      <td>0</td>\n",
       "      <td>STON/O2. 3101282</td>\n",
       "      <td>7.9250</td>\n",
       "      <td>0</td>\n",
       "      <td>0</td>\n",
       "      <td>0</td>\n",
       "      <td>0</td>\n",
       "      <td>1</td>\n",
       "    </tr>\n",
       "    <tr>\n",
       "      <th>3</th>\n",
       "      <td>4</td>\n",
       "      <td>1</td>\n",
       "      <td>1</td>\n",
       "      <td>Futrelle, Mrs. Jacques Heath (Lily May Peel)</td>\n",
       "      <td>1</td>\n",
       "      <td>35.0</td>\n",
       "      <td>1</td>\n",
       "      <td>0</td>\n",
       "      <td>113803</td>\n",
       "      <td>53.1000</td>\n",
       "      <td>C123</td>\n",
       "      <td>0</td>\n",
       "      <td>0</td>\n",
       "      <td>0</td>\n",
       "      <td>1</td>\n",
       "    </tr>\n",
       "    <tr>\n",
       "      <th>4</th>\n",
       "      <td>5</td>\n",
       "      <td>0</td>\n",
       "      <td>3</td>\n",
       "      <td>Allen, Mr. William Henry</td>\n",
       "      <td>0</td>\n",
       "      <td>35.0</td>\n",
       "      <td>0</td>\n",
       "      <td>0</td>\n",
       "      <td>373450</td>\n",
       "      <td>8.0500</td>\n",
       "      <td>0</td>\n",
       "      <td>0</td>\n",
       "      <td>0</td>\n",
       "      <td>0</td>\n",
       "      <td>1</td>\n",
       "    </tr>\n",
       "    <tr>\n",
       "      <th>...</th>\n",
       "      <td>...</td>\n",
       "      <td>...</td>\n",
       "      <td>...</td>\n",
       "      <td>...</td>\n",
       "      <td>...</td>\n",
       "      <td>...</td>\n",
       "      <td>...</td>\n",
       "      <td>...</td>\n",
       "      <td>...</td>\n",
       "      <td>...</td>\n",
       "      <td>...</td>\n",
       "      <td>...</td>\n",
       "      <td>...</td>\n",
       "      <td>...</td>\n",
       "      <td>...</td>\n",
       "    </tr>\n",
       "    <tr>\n",
       "      <th>886</th>\n",
       "      <td>887</td>\n",
       "      <td>0</td>\n",
       "      <td>2</td>\n",
       "      <td>Montvila, Rev. Juozas</td>\n",
       "      <td>0</td>\n",
       "      <td>27.0</td>\n",
       "      <td>0</td>\n",
       "      <td>0</td>\n",
       "      <td>211536</td>\n",
       "      <td>13.0000</td>\n",
       "      <td>0</td>\n",
       "      <td>0</td>\n",
       "      <td>0</td>\n",
       "      <td>0</td>\n",
       "      <td>1</td>\n",
       "    </tr>\n",
       "    <tr>\n",
       "      <th>887</th>\n",
       "      <td>888</td>\n",
       "      <td>1</td>\n",
       "      <td>1</td>\n",
       "      <td>Graham, Miss. Margaret Edith</td>\n",
       "      <td>1</td>\n",
       "      <td>19.0</td>\n",
       "      <td>0</td>\n",
       "      <td>0</td>\n",
       "      <td>112053</td>\n",
       "      <td>30.0000</td>\n",
       "      <td>B42</td>\n",
       "      <td>0</td>\n",
       "      <td>0</td>\n",
       "      <td>0</td>\n",
       "      <td>1</td>\n",
       "    </tr>\n",
       "    <tr>\n",
       "      <th>888</th>\n",
       "      <td>889</td>\n",
       "      <td>0</td>\n",
       "      <td>3</td>\n",
       "      <td>Johnston, Miss. Catherine Helen \"Carrie\"</td>\n",
       "      <td>1</td>\n",
       "      <td>0.0</td>\n",
       "      <td>1</td>\n",
       "      <td>2</td>\n",
       "      <td>W./C. 6607</td>\n",
       "      <td>23.4500</td>\n",
       "      <td>0</td>\n",
       "      <td>0</td>\n",
       "      <td>0</td>\n",
       "      <td>0</td>\n",
       "      <td>1</td>\n",
       "    </tr>\n",
       "    <tr>\n",
       "      <th>889</th>\n",
       "      <td>890</td>\n",
       "      <td>1</td>\n",
       "      <td>1</td>\n",
       "      <td>Behr, Mr. Karl Howell</td>\n",
       "      <td>0</td>\n",
       "      <td>26.0</td>\n",
       "      <td>0</td>\n",
       "      <td>0</td>\n",
       "      <td>111369</td>\n",
       "      <td>30.0000</td>\n",
       "      <td>C148</td>\n",
       "      <td>0</td>\n",
       "      <td>1</td>\n",
       "      <td>0</td>\n",
       "      <td>0</td>\n",
       "    </tr>\n",
       "    <tr>\n",
       "      <th>890</th>\n",
       "      <td>891</td>\n",
       "      <td>0</td>\n",
       "      <td>3</td>\n",
       "      <td>Dooley, Mr. Patrick</td>\n",
       "      <td>0</td>\n",
       "      <td>32.0</td>\n",
       "      <td>0</td>\n",
       "      <td>0</td>\n",
       "      <td>370376</td>\n",
       "      <td>7.7500</td>\n",
       "      <td>0</td>\n",
       "      <td>0</td>\n",
       "      <td>0</td>\n",
       "      <td>1</td>\n",
       "      <td>0</td>\n",
       "    </tr>\n",
       "  </tbody>\n",
       "</table>\n",
       "<p>891 rows × 15 columns</p>\n",
       "</div>"
      ],
      "text/plain": [
       "     PassengerId  Survived  Pclass  \\\n",
       "0              1         0       3   \n",
       "1              2         1       1   \n",
       "2              3         1       3   \n",
       "3              4         1       1   \n",
       "4              5         0       3   \n",
       "..           ...       ...     ...   \n",
       "886          887         0       2   \n",
       "887          888         1       1   \n",
       "888          889         0       3   \n",
       "889          890         1       1   \n",
       "890          891         0       3   \n",
       "\n",
       "                                                  Name Sex   Age  SibSp  \\\n",
       "0                              Braund, Mr. Owen Harris   0  22.0      1   \n",
       "1    Cumings, Mrs. John Bradley (Florence Briggs Th...   1  38.0      1   \n",
       "2                               Heikkinen, Miss. Laina   1  26.0      0   \n",
       "3         Futrelle, Mrs. Jacques Heath (Lily May Peel)   1  35.0      1   \n",
       "4                             Allen, Mr. William Henry   0  35.0      0   \n",
       "..                                                 ...  ..   ...    ...   \n",
       "886                              Montvila, Rev. Juozas   0  27.0      0   \n",
       "887                       Graham, Miss. Margaret Edith   1  19.0      0   \n",
       "888           Johnston, Miss. Catherine Helen \"Carrie\"   1   0.0      1   \n",
       "889                              Behr, Mr. Karl Howell   0  26.0      0   \n",
       "890                                Dooley, Mr. Patrick   0  32.0      0   \n",
       "\n",
       "     Parch            Ticket     Fare Cabin  is_0  is_C  is_Q  is_S  \n",
       "0        0         A/5 21171   7.2500     0     0     0     0     1  \n",
       "1        0          PC 17599  71.2833   C85     0     1     0     0  \n",
       "2        0  STON/O2. 3101282   7.9250     0     0     0     0     1  \n",
       "3        0            113803  53.1000  C123     0     0     0     1  \n",
       "4        0            373450   8.0500     0     0     0     0     1  \n",
       "..     ...               ...      ...   ...   ...   ...   ...   ...  \n",
       "886      0            211536  13.0000     0     0     0     0     1  \n",
       "887      0            112053  30.0000   B42     0     0     0     1  \n",
       "888      2        W./C. 6607  23.4500     0     0     0     0     1  \n",
       "889      0            111369  30.0000  C148     0     1     0     0  \n",
       "890      0            370376   7.7500     0     0     0     1     0  \n",
       "\n",
       "[891 rows x 15 columns]"
      ]
     },
     "execution_count": 10,
     "metadata": {},
     "output_type": "execute_result"
    }
   ],
   "source": [
    "df"
   ]
  },
  {
   "cell_type": "code",
   "execution_count": 11,
   "metadata": {},
   "outputs": [],
   "source": [
    "from sklearn.model_selection import train_test_split\n",
    "\n",
    "features = [\"Pclass\", \"Age\", \"SibSp\", \"Parch\", \"Fare\", \"Sex\", \"is_0\", \"is_C\", \"is_Q\", \"is_S\"]\n",
    "\n",
    "xTrain, xTest, yTrain, yTest = train_test_split(\n",
    "    df[features],\n",
    "    df[\"Survived\"],\n",
    "    stratify = df[\"Survived\"],\n",
    "    random_state = 42\n",
    ")"
   ]
  },
  {
   "cell_type": "code",
   "execution_count": 12,
   "metadata": {},
   "outputs": [
    {
     "data": {
      "text/plain": [
       "0.9820359281437125"
      ]
     },
     "execution_count": 12,
     "metadata": {},
     "output_type": "execute_result"
    }
   ],
   "source": [
    "from sklearn.tree import DecisionTreeClassifier\n",
    "tree = DecisionTreeClassifier()\n",
    "tree.fit(xTrain, yTrain)\n",
    "tree.score(xTrain, yTrain)"
   ]
  },
  {
   "cell_type": "code",
   "execution_count": 13,
   "metadata": {},
   "outputs": [
    {
     "data": {
      "text/plain": [
       "0.7533632286995515"
      ]
     },
     "execution_count": 13,
     "metadata": {},
     "output_type": "execute_result"
    }
   ],
   "source": [
    "tree.score(xTest, yTest)"
   ]
  },
  {
   "cell_type": "markdown",
   "metadata": {},
   "source": [
    "## Feature Engineering\n",
    "\n",
    "#### Build additional features:\n",
    "Data may contain information that is hard, or even impossible to grasp for a machine learning algorithm, for example the importance of a certain title, public holidays which occur on different dates, sudden changes in human decision making (e.g. the transition from child to young adult)... This information has to be provided explicitly to the algorithm as an extra feature, as it does not have common knowledge. This important Data Science process is called \"Feature Engineering\", and often makes the difference between a good and a bad model.\n",
    "\n",
    "#### In our case, the following extra features could be added:\n",
    "- The title of each person might correlate with their survival probabillity. (e.g. Mr. most unlikely, Miss more likely, Countess most likely,...)\n",
    "- The size of a family might matter as these people are likely to help each other. This is however currently split up between two columns `SibSp` and `Parch`, we could merge them to a `FamilySize` column by adding them to each other.\n",
    "- In earlier times, wealthier people often had longer names, so this could be another feature.\n",
    "- The change from being a child to being an adult, as people are more likely to give the spot in a rescue boat to a child (combination of `Title`, `Age`, and `Sex`)\n",
    "- The number of relatives on the boat, as those are people which are likely to help each other.\n",
    "- An `ID` for each family on the boat. If one member survives, the are more likely to be in the same rescue boat.\n",
    "- If `NaN` values are replaced, we can add the feature col Missing\n",
    "- etc.\n",
    "\n",
    "Let us starting the process of feature engineering by calculating a family size."
   ]
  },
  {
   "cell_type": "code",
   "execution_count": 21,
   "metadata": {},
   "outputs": [],
   "source": [
    "df[\"FamilySize\"] = df[\"Parch\"] + df[\"SibSp\"]"
   ]
  },
  {
   "cell_type": "markdown",
   "metadata": {},
   "source": [
    "This was easy right? Let's continue with feature engineering on the `Name` column. For that let us look at some examples from that column: "
   ]
  },
  {
   "cell_type": "code",
   "execution_count": 14,
   "metadata": {},
   "outputs": [
    {
     "name": "stdout",
     "output_type": "stream",
     "text": [
      "Johnston, Miss. Catherine Helen \"Carrie\"\n",
      "Cumings, Mrs. John Bradley (Florence Briggs Thayer)\n"
     ]
    }
   ],
   "source": [
    "print(df[\"Name\"].iloc[888])\n",
    "print(df[\"Name\"].iloc[1])"
   ]
  },
  {
   "cell_type": "markdown",
   "metadata": {},
   "source": [
    "The `Name` property is a bit more complex. Besides normal names, it contains rows with names in brackets and with double quotes.\n",
    "\n",
    "In case of double quotes, a nickname is provided, e.g. `Johnston, Miss. Catherine Helen \"Carrie\"`. This could be saved in a binary property as having a nickname or not. Afterwards, the brackets and their contents can be removed.\n",
    "\n",
    "In case of no double quotes, an old-fashioned way of referring to women is used, e.g. `Cumings, Mrs. John Bradley (Florence Briggs Thayer)` refers to the wife of `Mr. John Bradley Cumings` with the maiden name `Florence Briggs Thayer`. This can help for filling missing ages, if one assumes that married couples have similar ages (can be tested with the data). Similarly, the titles `Master` (title of male children) and `Miss` (unmarried women) should be younger than the average.\n",
    "\n",
    "Additionally, we can figure out which people belong to a family by setting a family id made up from the family name and the number of siblings, spouses, parents and children that or on board. As relatives normally stick together closely, it might be reasonable that certain family ids have a higher probability of survival than others.\n",
    "\n",
    "Let us start by extracting the title and assigning value to it which might correlate with their survival probabillity. (e.g. Mr. most unlikely, Miss more likely, Countess most likely,...)"
   ]
  },
  {
   "cell_type": "code",
   "execution_count": 15,
   "metadata": {},
   "outputs": [],
   "source": [
    "# Here are some helper functions\n",
    "import re\n",
    "\n",
    "titleMapping = {\"Mr\": 1, \"Miss\": 2, \"Mrs\": 3, \"Master\": 4, \n",
    "                \"Dr\": 5, \"Rev\": 6, \"Major\": 7,\n",
    "                \"Col\": 7, \"Mlle\": 8, \"Mme\": 8, \"Don\": 9, \n",
    "                \"Lady\": 10, \"Countess\": 10, \"Jonkheer\": 10, \"Sir\": 9, \n",
    "                \"Capt\": 7, \"Ms\": 2}\n",
    "\n",
    "def get_title(name):\n",
    "    # Use a regular expression to search for a title.  \n",
    "    # Titles always consist of capital and lowercase letters, and end with a period.\n",
    "    titleSearch = re.search('([A-Za-z]+)\\.', name)\n",
    "    # If the title exists, extract and return it.\n",
    "    if titleSearch:\n",
    "        for k,v in titleMapping.items():\n",
    "            if k==titleSearch.group(1) : return v\n",
    "    return 0\n",
    "\n",
    "def test_get_title(name_with_title: str, title_value: str):\n",
    "    assert get_title(name_with_title) == title_value\n",
    "    \n",
    "name_title_map = {\n",
    "    \"Braund, Mr. Owen Harris\": 1,\n",
    "    \"Johnston, Miss. Catherine Helen \\\"Carrie\\\"\": 2,\n",
    "    \"Cumings, Mrs. John Bradley (Florence Briggs Thayer)\": 3\n",
    "}\n",
    "for k, v in name_title_map.items():\n",
    "    test_get_title(k, v)"
   ]
  },
  {
   "cell_type": "markdown",
   "metadata": {},
   "source": [
    "Let us continuing by assigining a familyId to people. This should be the same id if the family is the same and the sum of `FamilySize` is equal."
   ]
  },
  {
   "cell_type": "code",
   "execution_count": 22,
   "metadata": {},
   "outputs": [],
   "source": [
    "from typing import Dict\n",
    "import operator\n",
    "\n",
    "def get_family_id(row: pd.Series, family_id_map: Dict[str, int]) -> int:\n",
    "    # Find the last name by splitting on a comma\n",
    "    last_name = row[\"Name\"].split(\",\")[0]\n",
    "    # Create the family id\n",
    "    family_id = \"{0}{1}\".format(last_name, row[\"FamilySize\"])\n",
    "    # Look up the id in the mapping\n",
    "    if family_id not in family_id_map:\n",
    "        if len(family_id_map) == 0:\n",
    "            current_id = 1\n",
    "        else:\n",
    "            # Get the maximum id from the mapping and add one to it if we don't have an id\n",
    "            current_id = (max(family_id_map.items(), key=operator.itemgetter(1))[1] + 1)\n",
    "        family_id_map[family_id] = current_id\n",
    "    return family_id_map[family_id]\n",
    "\n",
    "def test_get_family_id():\n",
    "    family_id_map = {\n",
    "        \"Cummings5\": 1,\n",
    "        \"Cummings3\": 2\n",
    "    }\n",
    "    test_df = pd.DataFrame(\n",
    "        columns=[\"Name\", \"FamilySize\"], \n",
    "        data = [\n",
    "            (\"Cummings\", 5),\n",
    "            (\"Cummings\", 4),\n",
    "            (\"Cummings\", 3),\n",
    "            (\"Johnston\", 5),\n",
    "        ])\n",
    "    expected_results = [1, 3, 2, 4]\n",
    "    assert [get_family_id(row, family_id_map) for _, row in test_df.iterrows()] == expected_results\n",
    "\n",
    "test_get_family_id()"
   ]
  },
  {
   "cell_type": "markdown",
   "metadata": {},
   "source": [
    "To apply the same transformations on training and test data we should pack all of the preporcessing into a function which we can simply pass a dataframe to and it does all these transformations for us:"
   ]
  },
  {
   "cell_type": "code",
   "execution_count": 31,
   "metadata": {},
   "outputs": [],
   "source": [
    "def preprocessDf(frame, family_id_map):\n",
    "    # Start by encoding the Sex as a number\n",
    "    # Replace all the occurences of male with the number 0.\n",
    "    frame.loc[frame[\"Sex\"] == \"male\", \"Sex\"] = 0\n",
    "    # Replace all the occurences of female with the number 1.\n",
    "    frame.loc[frame[\"Sex\"] == \"female\", \"Sex\"] = 1\n",
    "    \n",
    "    frame = frame.join(pd.get_dummies(frame[\"Embarked\"], prefix=\"is\"))\n",
    "    frame = frame.drop(\"Embarked\", axis=1)\n",
    "    \n",
    "    frame[\"AgeMissing\"] = pd.isnull(frame[\"Age\"]).astype(int)\n",
    "    frame[\"Age\"] = frame[\"Age\"].fillna(frame[\"Age\"].median())\n",
    "    \n",
    "    frame[\"FamilySize\"] = frame[\"SibSp\"] + frame[\"Parch\"]\n",
    "        \n",
    "    frame[\"Title\"] = frame[\"Name\"].apply(get_title)\n",
    "        \n",
    "    frame[\"FamilyId\"] = frame.apply(get_family_id, args=(family_id_map,), axis=1)\n",
    "    \n",
    "    return frame, family_id_map\n",
    "\n",
    "df = pd.read_csv('train.csv')\n",
    "family_id_map = {}\n",
    "df, family_id_map = preprocessDf(df, family_id_map)\n",
    "# The properties Name, Ticket and Cabin are not needed any longer\n",
    "df.drop(['Name', 'Ticket', 'Cabin'], axis = 1, inplace = True, errors = 'ignore')"
   ]
  },
  {
   "cell_type": "code",
   "execution_count": 32,
   "metadata": {
    "scrolled": true
   },
   "outputs": [
    {
     "data": {
      "text/html": [
       "<div>\n",
       "<style scoped>\n",
       "    .dataframe tbody tr th:only-of-type {\n",
       "        vertical-align: middle;\n",
       "    }\n",
       "\n",
       "    .dataframe tbody tr th {\n",
       "        vertical-align: top;\n",
       "    }\n",
       "\n",
       "    .dataframe thead th {\n",
       "        text-align: right;\n",
       "    }\n",
       "</style>\n",
       "<table border=\"1\" class=\"dataframe\">\n",
       "  <thead>\n",
       "    <tr style=\"text-align: right;\">\n",
       "      <th></th>\n",
       "      <th>PassengerId</th>\n",
       "      <th>Survived</th>\n",
       "      <th>Pclass</th>\n",
       "      <th>Sex</th>\n",
       "      <th>Age</th>\n",
       "      <th>SibSp</th>\n",
       "      <th>Parch</th>\n",
       "      <th>Fare</th>\n",
       "      <th>is_C</th>\n",
       "      <th>is_Q</th>\n",
       "      <th>is_S</th>\n",
       "      <th>AgeMissing</th>\n",
       "      <th>FamilySize</th>\n",
       "      <th>Title</th>\n",
       "      <th>FamilyId</th>\n",
       "    </tr>\n",
       "  </thead>\n",
       "  <tbody>\n",
       "    <tr>\n",
       "      <th>0</th>\n",
       "      <td>1</td>\n",
       "      <td>0</td>\n",
       "      <td>3</td>\n",
       "      <td>0</td>\n",
       "      <td>22.0</td>\n",
       "      <td>1</td>\n",
       "      <td>0</td>\n",
       "      <td>7.2500</td>\n",
       "      <td>0</td>\n",
       "      <td>0</td>\n",
       "      <td>1</td>\n",
       "      <td>0</td>\n",
       "      <td>1</td>\n",
       "      <td>1</td>\n",
       "      <td>1</td>\n",
       "    </tr>\n",
       "    <tr>\n",
       "      <th>1</th>\n",
       "      <td>2</td>\n",
       "      <td>1</td>\n",
       "      <td>1</td>\n",
       "      <td>1</td>\n",
       "      <td>38.0</td>\n",
       "      <td>1</td>\n",
       "      <td>0</td>\n",
       "      <td>71.2833</td>\n",
       "      <td>1</td>\n",
       "      <td>0</td>\n",
       "      <td>0</td>\n",
       "      <td>0</td>\n",
       "      <td>1</td>\n",
       "      <td>3</td>\n",
       "      <td>2</td>\n",
       "    </tr>\n",
       "    <tr>\n",
       "      <th>2</th>\n",
       "      <td>3</td>\n",
       "      <td>1</td>\n",
       "      <td>3</td>\n",
       "      <td>1</td>\n",
       "      <td>26.0</td>\n",
       "      <td>0</td>\n",
       "      <td>0</td>\n",
       "      <td>7.9250</td>\n",
       "      <td>0</td>\n",
       "      <td>0</td>\n",
       "      <td>1</td>\n",
       "      <td>0</td>\n",
       "      <td>0</td>\n",
       "      <td>2</td>\n",
       "      <td>3</td>\n",
       "    </tr>\n",
       "    <tr>\n",
       "      <th>3</th>\n",
       "      <td>4</td>\n",
       "      <td>1</td>\n",
       "      <td>1</td>\n",
       "      <td>1</td>\n",
       "      <td>35.0</td>\n",
       "      <td>1</td>\n",
       "      <td>0</td>\n",
       "      <td>53.1000</td>\n",
       "      <td>0</td>\n",
       "      <td>0</td>\n",
       "      <td>1</td>\n",
       "      <td>0</td>\n",
       "      <td>1</td>\n",
       "      <td>3</td>\n",
       "      <td>4</td>\n",
       "    </tr>\n",
       "    <tr>\n",
       "      <th>4</th>\n",
       "      <td>5</td>\n",
       "      <td>0</td>\n",
       "      <td>3</td>\n",
       "      <td>0</td>\n",
       "      <td>35.0</td>\n",
       "      <td>0</td>\n",
       "      <td>0</td>\n",
       "      <td>8.0500</td>\n",
       "      <td>0</td>\n",
       "      <td>0</td>\n",
       "      <td>1</td>\n",
       "      <td>0</td>\n",
       "      <td>0</td>\n",
       "      <td>1</td>\n",
       "      <td>5</td>\n",
       "    </tr>\n",
       "  </tbody>\n",
       "</table>\n",
       "</div>"
      ],
      "text/plain": [
       "   PassengerId  Survived  Pclass Sex   Age  SibSp  Parch     Fare  is_C  is_Q  \\\n",
       "0            1         0       3   0  22.0      1      0   7.2500     0     0   \n",
       "1            2         1       1   1  38.0      1      0  71.2833     1     0   \n",
       "2            3         1       3   1  26.0      0      0   7.9250     0     0   \n",
       "3            4         1       1   1  35.0      1      0  53.1000     0     0   \n",
       "4            5         0       3   0  35.0      0      0   8.0500     0     0   \n",
       "\n",
       "   is_S  AgeMissing  FamilySize  Title  FamilyId  \n",
       "0     1           0           1      1         1  \n",
       "1     0           0           1      3         2  \n",
       "2     1           0           0      2         3  \n",
       "3     1           0           1      3         4  \n",
       "4     1           0           0      1         5  "
      ]
     },
     "execution_count": 32,
     "metadata": {},
     "output_type": "execute_result"
    }
   ],
   "source": [
    "df.head(5)"
   ]
  },
  {
   "cell_type": "markdown",
   "metadata": {},
   "source": [
    "## Visualization\n",
    "Now that we have our feature set, let us actually investigate the data similar to the investigation in the [numerical exploration](./02-ExplorationNumeric.ipynb). \n"
   ]
  },
  {
   "cell_type": "code",
   "execution_count": null,
   "metadata": {
    "scrolled": true
   },
   "outputs": [],
   "source": []
  },
  {
   "cell_type": "code",
   "execution_count": null,
   "metadata": {},
   "outputs": [],
   "source": []
  },
  {
   "cell_type": "markdown",
   "metadata": {},
   "source": [
    "With this knowledge about the feature importance,\n",
    "we can either revisit the step of the data preprocessing or start developing a machine learning algorithm (also called a \"classifier\")."
   ]
  },
  {
   "cell_type": "markdown",
   "metadata": {},
   "source": [
    "## Let us train our model again\n",
    "\n",
    "There is a huge variety of models which can be selected, e.g. Linear Regression, Logistic Regression, Decision Trees, Random Forests, Gradient Boost Trees, and Neural Networks. Most of these classifiers are implemented in the `sklearn` package. \n",
    "\n",
    "Let's try a Logistic Regression, a Decision Tree, a Random Forest, and a Gradient Boost Tree, and then have a look how they compare. \n",
    "\n",
    "Let us apply the knowledge of [splitting datasets](./04-TrainTestSplit.ipynb) to first get a training and test set.\n"
   ]
  },
  {
   "cell_type": "code",
   "execution_count": null,
   "metadata": {},
   "outputs": [],
   "source": [
    "from sklearn.model_selection import train_test_split\n",
    "\n",
    "xTrain, xTest, yTrain, yTest = train_test_split(\n",
    "    df[features],\n",
    "    df[\"Survived\"],\n",
    "    stratify = df[\"Survived\"],\n",
    "    random_state = 42\n",
    ")\n"
   ]
  },
  {
   "cell_type": "markdown",
   "metadata": {},
   "source": [
    "Now let us [train an algortihm](./03-SklearnIntroduction.ipynb)."
   ]
  },
  {
   "cell_type": "code",
   "execution_count": 36,
   "metadata": {},
   "outputs": [
    {
     "name": "stdout",
     "output_type": "stream",
     "text": [
      "0.9820359281437125\n",
      "0.7533632286995515\n"
     ]
    }
   ],
   "source": [
    "from sklearn.linear_model import LogisticRegressionCV\n",
    "from sklearn.tree import DecisionTreeClassifier\n",
    "from sklearn.ensemble import GradientBoostingClassifier, RandomForestClassifier\n",
    "clf = DecisionTreeClassifier()\n",
    "clf.fit(xTrain, yTrain)\n",
    "print(clf.score(xTrain, yTrain))\n",
    "print(clf.score(xTest, yTest))"
   ]
  },
  {
   "cell_type": "markdown",
   "metadata": {},
   "source": [
    "Note that this gives us only a starting point about which direction to go, because we just ran all the classifiers with a subset of their parameters. Most classifiers are very sensitive to changes of those parameters. Therefore, it is good practice to read the documentation and statistical background before using new classifiers and interpreting their results.\n",
    "\n",
    "To test how the models handle different parameter sets, we can use `GridSearch`. This evaluates the model with multiple sets of parameters. However, this can lead to excessive computation time (good hardware and parallel computing help though)."
   ]
  },
  {
   "cell_type": "code",
   "execution_count": 47,
   "metadata": {},
   "outputs": [
    {
     "name": "stdout",
     "output_type": "stream",
     "text": [
      "0.8071748878923767\n"
     ]
    }
   ],
   "source": [
    "from sklearn.model_selection import GridSearchCV\n",
    "clf = DecisionTreeClassifier(random_state=42)\n",
    "paramGrid = {'max_depth': [1,2,3,8,None],\n",
    "            'max_features': [1,2,4,8,None]}\n",
    "grid = GridSearchCV(clf, param_grid=paramGrid, cv=5)\n",
    "grid.fit(xTrain, yTrain)\n",
    "print(grid.score(xTest, yTest))"
   ]
  },
  {
   "cell_type": "code",
   "execution_count": 48,
   "metadata": {},
   "outputs": [
    {
     "data": {
      "text/plain": [
       "<matplotlib.colorbar.Colorbar at 0x13cd4c510>"
      ]
     },
     "execution_count": 48,
     "metadata": {},
     "output_type": "execute_result"
    },
    {
     "data": {
      "image/png": "[encoded data removed]",
      "text/plain": [
       "<Figure size 288x288 with 2 Axes>"
      ]
     },
     "metadata": {
      "needs_background": "light"
     },
     "output_type": "display_data"
    }
   ],
   "source": [
    "import json\n",
    "\n",
    "import numpy as np\n",
    "from matplotlib import pyplot as plt\n",
    "\n",
    "plt.matshow(np.array(grid.cv_results_[\"mean_test_score\"]).reshape(5, -1))\n",
    "plt.xlabel(\"depth\")\n",
    "plt.ylabel(\"max features\")\n",
    "plt.xticks(range(len(paramGrid['max_depth'])), paramGrid['max_depth'])\n",
    "plt.yticks(range(len(paramGrid['max_features'])), paramGrid['max_features'])\n",
    "plt.colorbar()"
   ]
  },
  {
   "cell_type": "markdown",
   "metadata": {},
   "source": [
    "Now it is your time to change the code above to figure out how good you can get."
   ]
  }
 ],
 "metadata": {
  "kernelspec": {
   "display_name": "Python 3",
   "language": "python",
   "name": "python3"
  },
  "language_info": {
   "codemirror_mode": {
    "name": "ipython",
    "version": 3
   },
   "file_extension": ".py",
   "mimetype": "text/x-python",
   "name": "python",
   "nbconvert_exporter": "python",
   "pygments_lexer": "ipython3",
   "version": "3.7.5"
  }
 },
 "nbformat": 4,
 "nbformat_minor": 2
}

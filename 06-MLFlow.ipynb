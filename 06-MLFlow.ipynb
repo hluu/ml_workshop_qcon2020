{
 "cells": [
  {
   "cell_type": "code",
   "execution_count": null,
   "metadata": {},
   "outputs": [],
   "source": [
    "! pip install mlflow"
   ]
  },
  {
   "cell_type": "markdown",
   "metadata": {},
   "source": [
    "# MLFlow\n",
    "\n",
    "It can be very hard to keep track of all of the different machine learning experiments on ran. Luckily we have mlflow too keep track of the configurations and the results accociated with it."
   ]
  },
  {
   "cell_type": "code",
   "execution_count": null,
   "metadata": {},
   "outputs": [],
   "source": [
    "import mlflow\n",
    "import pandas as pd\n",
    "df = pd.read_csv('train.csv')\n",
    "df = df.fillna(0)\n",
    "features = [\"Pclass\", \"Age\", \"SibSp\", \"Parch\", \"Fare\"]\n",
    "target_column = [\"Survived\"]"
   ]
  },
  {
   "cell_type": "code",
   "execution_count": null,
   "metadata": {},
   "outputs": [],
   "source": [
    "from typing import Dict\n",
    "import operator\n",
    "\n",
    "def get_family_id(row: pd.Series, family_id_map: Dict[str, int]) -> int:\n",
    "    # Find the last name by splitting on a comma\n",
    "    last_name = row[\"Name\"].split(\",\")[0]\n",
    "    # Create the family id\n",
    "    family_id = \"{0}{1}\".format(last_name, row[\"FamilySize\"])\n",
    "    # Look up the id in the mapping\n",
    "    if family_id not in family_id_map:\n",
    "        if len(family_id_map) == 0:\n",
    "            current_id = 1\n",
    "        else:\n",
    "            # Get the maximum id from the mapping and add one to it if we don't have an id\n",
    "            current_id = (max(family_id_map.items(), key=operator.itemgetter(1))[1] + 1)\n",
    "        family_id_map[family_id] = current_id\n",
    "    return family_id_map[family_id]\n",
    "\n",
    "famile_id_map = {}\n",
    "df[\"FamilySize\"] = df[\"SibSp\"] + df[\"Parch\"]\n",
    "df[\"FamilyId\"] = df.apply(get_family_id, args=(famile_id_map,), axis=1)\n",
    "df"
   ]
  },
  {
   "cell_type": "code",
   "execution_count": null,
   "metadata": {},
   "outputs": [],
   "source": [
    "from mlflow.entities import Run, Experiment\n",
    "import json\n",
    "from sklearn.model_selection import train_test_split\n",
    "from sklearn.tree import DecisionTreeClassifier\n",
    "import mlflow.sklearn\n",
    "\n",
    "mlflow.set_experiment(\"Titanic\")\n",
    "\n",
    "df = df.fillna(0)\n",
    "\n",
    "xTrain, xTest, yTrain, yTest = train_test_split(\n",
    "    df[features],\n",
    "    df[\"Survived\"],\n",
    "    stratify = df[\"Survived\"],\n",
    "    random_state = 42\n",
    ")\n",
    "\n",
    "\n",
    "with mlflow.start_run() as run:\n",
    "    max_depth = 3\n",
    "    max_features = 4\n",
    "    mlflow.log_param(\"max_depth\", max_depth)\n",
    "    mlflow.log_param(\"max_features\", max_features)\n",
    "    decision_tree = DecisionTreeClassifier(\n",
    "        max_depth=max_depth,\n",
    "        max_features=max_features\n",
    "    )\n",
    "    decision_tree.fit(df[features], df[target_column])\n",
    "    \n",
    "    train_accuracy = decision_tree.score(xTrain, yTrain)\n",
    "    mlflow.log_metric(\"train_accuracy\", train_accuracy)\n",
    "    \n",
    "    test_accuracy = decision_tree.score(xTest, yTest)\n",
    "    mlflow.log_metric(\"test_accuracy\", test_accuracy)\n",
    "    with open(\"family_id_map.json\", \"w\") as f:\n",
    "        json.dump(famile_id_map, f)\n",
    "    mlflow.log_artifact(\"family_id_map.json\")\n",
    "    mlflow.sklearn.log_model(decision_tree, \"model\")\n",
    "\n"
   ]
  },
  {
   "cell_type": "code",
   "execution_count": null,
   "metadata": {},
   "outputs": [],
   "source": [
    "from mlflow.tracking import MlflowClient\n",
    "client = MlflowClient()\n",
    "client.list_experiments()"
   ]
  },
  {
   "cell_type": "code",
   "execution_count": null,
   "metadata": {},
   "outputs": [],
   "source": [
    "client.list_run_infos(\"1\")"
   ]
  }
 ],
 "metadata": {
  "kernelspec": {
   "display_name": "Python 3",
   "language": "python",
   "name": "python3"
  },
  "language_info": {
   "codemirror_mode": {
    "name": "ipython",
    "version": 3
   },
   "file_extension": ".py",
   "mimetype": "text/x-python",
   "name": "python",
   "nbconvert_exporter": "python",
   "pygments_lexer": "ipython3",
   "version": "3.7.5"
  }
 },
 "nbformat": 4,
 "nbformat_minor": 4
}
